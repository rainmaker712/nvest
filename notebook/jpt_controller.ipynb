{
 "cells": [
  {
   "cell_type": "markdown",
   "id": "progressive-basin",
   "metadata": {},
   "source": [
    "# SMTM for Jupyter notebook"
   ]
  },
  {
   "cell_type": "code",
   "execution_count": null,
   "id": "included-traffic",
   "metadata": {},
   "outputs": [],
   "source": [
    "from IPython.core.display import display, HTML\n",
    "display(HTML(\"<style>div.output_scroll { height: 44em; } div.output_subarea{max-width: 100%} input.raw_input{max-width: 90%}</style>\"))"
   ]
  },
  {
   "cell_type": "code",
   "execution_count": null,
   "id": "worse-compiler",
   "metadata": {},
   "outputs": [],
   "source": [
    "import os\n",
    "os.chdir('../')"
   ]
  },
  {
   "cell_type": "markdown",
   "id": "armed-racing",
   "metadata": {},
   "source": [
    "### 현재 디렉토리가 smtm 프로젝트 root로 설정되었는지 확인\n",
    "분석 결과 파일이 저장될 output 폴더 생성"
   ]
  },
  {
   "cell_type": "code",
   "execution_count": null,
   "id": "nominated-allowance",
   "metadata": {},
   "outputs": [],
   "source": [
    "print(\"현재 디렉토리 \" , os.getcwd())"
   ]
  },
  {
   "cell_type": "code",
   "execution_count": null,
   "id": "integrated-things",
   "metadata": {},
   "outputs": [],
   "source": [
    "if os.path.isdir(\"output\") is False:\n",
    "    print(\"create output folder\")\n",
    "    os.mkdir(\"output\")"
   ]
  },
  {
   "cell_type": "code",
   "execution_count": null,
   "id": "about-marathon",
   "metadata": {},
   "outputs": [],
   "source": [
    "from smtm import JptController"
   ]
  },
  {
   "cell_type": "markdown",
   "id": "classical-filing",
   "metadata": {},
   "source": [
    "strategy: 0은 BnH 전략, 1은 SMA0 전략"
   ]
  },
  {
   "cell_type": "code",
   "execution_count": null,
   "id": "realistic-accommodation",
   "metadata": {},
   "outputs": [],
   "source": [
    "controller = JptController(market=\"ETH\")"
   ]
  },
  {
   "cell_type": "code",
   "execution_count": null,
   "id": "stuffed-circle",
   "metadata": {},
   "outputs": [],
   "source": [
    "controller.set_log_level(30)"
   ]
  },
  {
   "cell_type": "code",
   "execution_count": null,
   "id": "controlling-firewall",
   "metadata": {},
   "outputs": [],
   "source": [
    "controller.initialize(interval=60, strategy=1, budget=50000, is_bithumb=True)"
   ]
  },
  {
   "cell_type": "markdown",
   "id": "authentic-baptist",
   "metadata": {},
   "source": [
    "### 시스템 시작"
   ]
  },
  {
   "cell_type": "code",
   "execution_count": null,
   "id": "likely-agent",
   "metadata": {},
   "outputs": [],
   "source": [
    "controller.start()"
   ]
  },
  {
   "cell_type": "markdown",
   "id": "sublime-colleague",
   "metadata": {},
   "source": [
    "### 시스템 정보 조회"
   ]
  },
  {
   "cell_type": "code",
   "execution_count": null,
   "id": "heated-lightweight",
   "metadata": {},
   "outputs": [],
   "source": [
    "# query_list = {\n",
    "#     \"1. 최근 6시간\": (60 * 6, -1),\n",
    "#     \"2. 최근 12시간\": (60 * 12, -1),\n",
    "#     \"3. 최근 24시간\": (60 * 24, -1),\n",
    "#     \"4. 24시간 전부터 12시간\": (60 * 12, -2),\n",
    "#     \"5. 48시간 전부터 24시간\": (60 * 24, -2),\n",
    "#     \"1\": (60 * 6, -1),\n",
    "#     \"2\": (60 * 12, -1),\n",
    "#     \"3\": (60 * 24, -1),\n",
    "#     \"4\": (60 * 12, -2),\n",
    "#     \"5\": (60 * 24, -2),\n",
    "# }\n",
    "controller.get_score((60 * 6, -1))"
   ]
  },
  {
   "cell_type": "code",
   "execution_count": null,
   "id": "authentic-winner",
   "metadata": {},
   "outputs": [],
   "source": [
    "controller.get_state()"
   ]
  },
  {
   "cell_type": "code",
   "execution_count": null,
   "id": "instrumental-support",
   "metadata": {},
   "outputs": [],
   "source": [
    "controller.get_trading_record()"
   ]
  },
  {
   "cell_type": "markdown",
   "id": "provincial-greece",
   "metadata": {},
   "source": [
    "### 시스템 정지"
   ]
  },
  {
   "cell_type": "code",
   "execution_count": null,
   "id": "authentic-czech",
   "metadata": {},
   "outputs": [],
   "source": [
    "controller.stop()"
   ]
  },
  {
   "cell_type": "code",
   "execution_count": null,
   "id": "forward-sociology",
   "metadata": {},
   "outputs": [],
   "source": [
    "controller.operator.state = \"running\""
   ]
  },
  {
   "cell_type": "code",
   "execution_count": null,
   "id": "modern-composite",
   "metadata": {},
   "outputs": [],
   "source": [
    "controller.operator.analyzer.load_dump()"
   ]
  },
  {
   "cell_type": "code",
   "execution_count": null,
   "id": "wicked-apartment",
   "metadata": {},
   "outputs": [],
   "source": [
    "controller.operator.worker.start()"
   ]
  },
  {
   "cell_type": "code",
   "execution_count": null,
   "id": "loving-midnight",
   "metadata": {},
   "outputs": [],
   "source": []
  }
 ],
 "metadata": {
  "kernelspec": {
   "display_name": "Python 3",
   "language": "python",
   "name": "python3"
  },
  "language_info": {
   "codemirror_mode": {
    "name": "ipython",
    "version": 3
   },
   "file_extension": ".py",
   "mimetype": "text/x-python",
   "name": "python",
   "nbconvert_exporter": "python",
   "pygments_lexer": "ipython3",
   "version": "3.6.8"
  }
 },
 "nbformat": 4,
 "nbformat_minor": 5
}
