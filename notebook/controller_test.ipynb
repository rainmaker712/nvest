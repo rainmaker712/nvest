{
 "cells": [
  {
   "cell_type": "code",
   "execution_count": null,
   "id": "biological-action",
   "metadata": {},
   "outputs": [],
   "source": [
    "import os\n",
    "os.chdir('../')"
   ]
  },
  {
   "cell_type": "markdown",
   "id": "latin-simple",
   "metadata": {},
   "source": [
    "### 현재 디렉토리가 smtm 프로젝트 root로 설정되었는지 확인\n",
    "분석 결과 파일이 저장될 output 폴더 생성"
   ]
  },
  {
   "cell_type": "code",
   "execution_count": null,
   "id": "frozen-sarah",
   "metadata": {},
   "outputs": [],
   "source": [
    "print(\"현재 디렉토리 \" , os.getcwd())"
   ]
  },
  {
   "cell_type": "code",
   "execution_count": null,
   "id": "herbal-addition",
   "metadata": {},
   "outputs": [],
   "source": [
    "if os.path.isdir(\"output\") is False:\n",
    "    print(\"create output folder\")\n",
    "    os.mkdir(\"output\")"
   ]
  },
  {
   "cell_type": "code",
   "execution_count": null,
   "id": "loving-software",
   "metadata": {},
   "outputs": [],
   "source": [
    "from smtm import Controller"
   ]
  },
  {
   "cell_type": "markdown",
   "id": "verified-administrator",
   "metadata": {},
   "source": [
    "strategy: 0은 BnH 전략, 1은 SMA0 전략"
   ]
  },
  {
   "cell_type": "code",
   "execution_count": null,
   "id": "south-december",
   "metadata": {},
   "outputs": [],
   "source": [
    "controller = Controller(interval=60, strategy=1)"
   ]
  },
  {
   "cell_type": "code",
   "execution_count": null,
   "id": "criminal-tutorial",
   "metadata": {},
   "outputs": [],
   "source": [
    "controller.main()"
   ]
  }
 ],
 "metadata": {
  "kernelspec": {
   "display_name": "Python 3",
   "language": "python",
   "name": "python3"
  },
  "language_info": {
   "codemirror_mode": {
    "name": "ipython",
    "version": 3
   },
   "file_extension": ".py",
   "mimetype": "text/x-python",
   "name": "python",
   "nbconvert_exporter": "python",
   "pygments_lexer": "ipython3",
   "version": "3.6.8"
  }
 },
 "nbformat": 4,
 "nbformat_minor": 5
}
