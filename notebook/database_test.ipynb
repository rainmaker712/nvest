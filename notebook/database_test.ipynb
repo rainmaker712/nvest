{
 "cells": [
  {
   "cell_type": "code",
   "execution_count": null,
   "id": "closing-taxation",
   "metadata": {},
   "outputs": [],
   "source": [
    "import os\n",
    "os.chdir('../')"
   ]
  },
  {
   "cell_type": "markdown",
   "id": "narrative-technician",
   "metadata": {},
   "source": [
    "### 현재 디렉토리가 smtm 프로젝트 root로 설정되었는지 확인\n",
    "분석 결과 파일이 저장될 output 폴더 생성"
   ]
  },
  {
   "cell_type": "code",
   "execution_count": null,
   "id": "lyric-adelaide",
   "metadata": {},
   "outputs": [],
   "source": [
    "from datetime import datetime\n",
    "from smtm import Database"
   ]
  },
  {
   "cell_type": "code",
   "execution_count": null,
   "id": "temporal-change",
   "metadata": {},
   "outputs": [],
   "source": [
    "db = Database(\"test.db\")"
   ]
  },
  {
   "cell_type": "markdown",
   "id": "opposed-budget",
   "metadata": {},
   "source": [
    "### 데이터 베이스에 데이터 추가"
   ]
  },
  {
   "cell_type": "code",
   "execution_count": null,
   "id": "overall-groove",
   "metadata": {},
   "outputs": [],
   "source": [
    "data = [{'period': 60,\n",
    "  'recovered': 0,\n",
    "  'market': 'KRW-BTC',\n",
    "  'date_time': '2020-02-10 03:20:00',\n",
    "  'opening_price': 11708000.0,\n",
    "  'high_price': 11721000.0,\n",
    "  'low_price': 11708000.0,\n",
    "  'closing_price': 11720000.0,\n",
    "  'acc_price': 1746637.83688,\n",
    "  'acc_volume': 0.14911611},\n",
    " {'period': 60,\n",
    "  'recovered': 0,\n",
    "  'market': 'KRW-BTC',\n",
    "  'date_time': '2020-02-10 03:21:00',\n",
    "  'opening_price': 11720000.0,\n",
    "  'high_price': 11721000.0,\n",
    "  'low_price': 11708000.0,\n",
    "  'closing_price': 11708000.0,\n",
    "  'acc_price': 528176.16304,\n",
    "  'acc_volume': 0.04507455},\n",
    " {'period': 60,\n",
    "  'recovered': 0,\n",
    "  'market': 'KRW-BTC',\n",
    "  'date_time': '2020-02-10 03:22:00',\n",
    "  'opening_price': 11709000.0,\n",
    "  'high_price': 11709000.0,\n",
    "  'low_price': 11709000.0,\n",
    "  'closing_price': 11709000.0,\n",
    "  'acc_price': 8453423.66841,\n",
    "  'acc_volume': 0.72195949}]"
   ]
  },
  {
   "cell_type": "code",
   "execution_count": null,
   "id": "collect-chicago",
   "metadata": {},
   "outputs": [],
   "source": [
    "db.update(data)"
   ]
  },
  {
   "cell_type": "code",
   "execution_count": null,
   "id": "ideal-northern",
   "metadata": {},
   "outputs": [],
   "source": [
    "start = \"2020-02-10T03:20:00\"\n",
    "end = \"2020-02-10T03:23:00\"\n",
    "market = \"KRW-BTC\""
   ]
  },
  {
   "cell_type": "code",
   "execution_count": null,
   "id": "prescribed-camcorder",
   "metadata": {},
   "outputs": [],
   "source": [
    "start_dt = datetime.strptime(start, \"%Y-%m-%dT%H:%M:%S\")\n",
    "end_dt = datetime.strptime(end, \"%Y-%m-%dT%H:%M:%S\")\n",
    "\n",
    "result = db.query(start_dt, end_dt, market)"
   ]
  },
  {
   "cell_type": "code",
   "execution_count": null,
   "id": "narrow-nelson",
   "metadata": {},
   "outputs": [],
   "source": [
    "len(result)"
   ]
  },
  {
   "cell_type": "code",
   "execution_count": null,
   "id": "architectural-objective",
   "metadata": {},
   "outputs": [],
   "source": [
    "result"
   ]
  },
  {
   "cell_type": "code",
   "execution_count": null,
   "id": "satellite-trance",
   "metadata": {},
   "outputs": [],
   "source": []
  }
 ],
 "metadata": {
  "kernelspec": {
   "display_name": "Python 3",
   "language": "python",
   "name": "python3"
  },
  "language_info": {
   "codemirror_mode": {
    "name": "ipython",
    "version": 3
   },
   "file_extension": ".py",
   "mimetype": "text/x-python",
   "name": "python",
   "nbconvert_exporter": "python",
   "pygments_lexer": "ipython3",
   "version": "3.6.8"
  }
 },
 "nbformat": 4,
 "nbformat_minor": 5
}
