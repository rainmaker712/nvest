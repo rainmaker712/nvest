{
 "cells": [
  {
   "cell_type": "markdown",
   "id": "defined-essex",
   "metadata": {},
   "source": [
    "## 빗썸 API 실습"
   ]
  },
  {
   "cell_type": "code",
   "execution_count": null,
   "id": "great-poison",
   "metadata": {},
   "outputs": [],
   "source": [
    "import os\n",
    "import hashlib\n",
    "import math\n",
    "import time\n",
    "import base64\n",
    "import hmac, hashlib\n",
    "from urllib.parse import urlencode\n",
    "import requests"
   ]
  },
  {
   "cell_type": "markdown",
   "id": "brazilian-watershed",
   "metadata": {},
   "source": [
    "### 환경변수 호출"
   ]
  },
  {
   "cell_type": "code",
   "execution_count": null,
   "id": "lovely-fields",
   "metadata": {},
   "outputs": [],
   "source": [
    "from dotenv import load_dotenv\n",
    "\n",
    "load_dotenv()\n",
    "\n",
    "ACCESS_KEY = os.environ[\"BITHUMB_API_ACCESS_KEY\"]\n",
    "SECRET_KEY = os.environ[\"BITHUMB_API_SECRET_KEY\"]\n",
    "SERVER_URL = os.environ[\"BITHUMB_API_SERVER_URL\"]\n",
    "SERVER_URL"
   ]
  },
  {
   "cell_type": "markdown",
   "id": "beginning-peripheral",
   "metadata": {},
   "source": [
    "os.environ을 조회 해 보았을때 .env에서 추가한 변수들이 정상적으로 추가되어 있는지 확인해보자  \n",
    "만약 정상적으로 로딩이 안된다면 아래 명령어로 .env 파일을 로딩해보자  \n",
    "`%dotenv {.env파일의 절대 또는 상대경로}/.env`"
   ]
  },
  {
   "cell_type": "code",
   "execution_count": null,
   "id": "wireless-premiere",
   "metadata": {},
   "outputs": [],
   "source": [
    "os.environ"
   ]
  },
  {
   "cell_type": "markdown",
   "id": "quarterly-namibia",
   "metadata": {},
   "source": [
    "### 토큰 만들기"
   ]
  },
  {
   "cell_type": "code",
   "execution_count": null,
   "id": "tutorial-camel",
   "metadata": {},
   "outputs": [],
   "source": [
    "def timestamp_millisec():\n",
    "    mt_string = \"%f %d\" % math.modf(time.time())\n",
    "    mt_array = mt_string.split(\" \")[:2]\n",
    "    return mt_array[1] + mt_array[0][2:5]\n",
    "    \n",
    "def create_token(endpoint, rgParams):\n",
    "    \"\"\"Api-Sign and Api-Nonce information generation.\n",
    "\n",
    "    # - nonce: it is an arbitrary number that may only be used once.\n",
    "    # - api_sign: API signature information created in various combinations values.\n",
    "    \"\"\"\n",
    "    endpoint_item_array = {\"endpoint\": endpoint}\n",
    "\n",
    "    uri_array = dict(endpoint_item_array, **rgParams)  # Concatenate the two arrays.\n",
    "    print(f\"uri_array {uri_array}\")\n",
    "\n",
    "    str_data = urlencode(uri_array)\n",
    "    nonce = timestamp_millisec()\n",
    "\n",
    "    data = endpoint + chr(0) + str_data + chr(0) + nonce\n",
    "    utf8_data = data.encode(\"utf-8\")\n",
    "\n",
    "    key = SECRET_KEY\n",
    "    utf8_key = key.encode(\"utf-8\")\n",
    "\n",
    "    h = hmac.new(bytes(utf8_key), utf8_data, hashlib.sha512)\n",
    "    hex_output = h.hexdigest()\n",
    "    utf8_hex_output = hex_output.encode(\"utf-8\")\n",
    "    api_sign = base64.b64encode(utf8_hex_output)\n",
    "    utf8_api_sign = api_sign.decode(\"utf-8\")\n",
    "\n",
    "    url = SERVER_URL + endpoint\n",
    "    headers = {\n",
    "        \"Api-Key\": ACCESS_KEY,\n",
    "        \"Api-Sign\": utf8_api_sign,\n",
    "        \"Api-Nonce\": nonce,\n",
    "        \"Content-Type\": \"application/x-www-form-urlencoded\",\n",
    "    }\n",
    "    \n",
    "    return (url, headers, str_data)"
   ]
  },
  {
   "cell_type": "markdown",
   "id": "adolescent-setting",
   "metadata": {},
   "source": [
    "### 계좌 조회 토큰 생성"
   ]
  },
  {
   "cell_type": "code",
   "execution_count": null,
   "id": "fantastic-vegetation",
   "metadata": {},
   "outputs": [],
   "source": [
    "account_query = {\n",
    "    \"order_currency\": \"BTC\",\n",
    "}\n",
    "create_token(\"/info/account\", account_query)"
   ]
  },
  {
   "cell_type": "markdown",
   "id": "comfortable-surveillance",
   "metadata": {},
   "source": [
    "### 계좌 조회하기"
   ]
  },
  {
   "cell_type": "code",
   "execution_count": null,
   "id": "unlikely-parallel",
   "metadata": {},
   "outputs": [],
   "source": [
    "def query_account(query):\n",
    "    print(query)\n",
    "    info = create_token(\"/info/account\", query)\n",
    "    response = requests.post(info[0], headers=info[1], data=info[2])\n",
    "    return response.json()"
   ]
  },
  {
   "cell_type": "code",
   "execution_count": null,
   "id": "exceptional-imaging",
   "metadata": {},
   "outputs": [],
   "source": [
    "query_account(account_query)"
   ]
  },
  {
   "cell_type": "markdown",
   "id": "impaired-hydrogen",
   "metadata": {},
   "source": [
    "### 계좌 잔고 조회하기"
   ]
  },
  {
   "cell_type": "code",
   "execution_count": null,
   "id": "suffering-spending",
   "metadata": {},
   "outputs": [],
   "source": [
    "def query_account_balance(query):\n",
    "    print(query)\n",
    "    info = create_token(\"/info/balance\", query)\n",
    "    response = requests.post(info[0], headers=info[1], data=info[2])\n",
    "    return response.json()"
   ]
  },
  {
   "cell_type": "code",
   "execution_count": null,
   "id": "cathedral-album",
   "metadata": {},
   "outputs": [],
   "source": [
    "query_account_balance({})"
   ]
  },
  {
   "cell_type": "markdown",
   "id": "gentle-textbook",
   "metadata": {},
   "source": [
    "### 주문 토큰 생성"
   ]
  },
  {
   "cell_type": "code",
   "execution_count": null,
   "id": "silent-independence",
   "metadata": {},
   "outputs": [],
   "source": [
    "query = {\n",
    "    \"order_currency\": \"BTC\",\n",
    "    \"payment_currency\": \"KRW\",\n",
    "    \"type\": \"bid\",\n",
    "    \"units\": str(0.0001),\n",
    "    \"price\": str(30000000),\n",
    "}\n",
    "create_token(\"/trade/place\", query)"
   ]
  },
  {
   "cell_type": "markdown",
   "id": "matched-baker",
   "metadata": {},
   "source": [
    "### 주문하기"
   ]
  },
  {
   "cell_type": "code",
   "execution_count": null,
   "id": "pregnant-aerospace",
   "metadata": {},
   "outputs": [],
   "source": [
    "def send_order(query):\n",
    "    print(query)\n",
    "    info = create_token(\"/trade/place\", query)\n",
    "    response = requests.post(info[0], headers=info[1], data=info[2])\n",
    "    return response.json()"
   ]
  },
  {
   "cell_type": "code",
   "execution_count": null,
   "id": "suspected-memphis",
   "metadata": {},
   "outputs": [],
   "source": [
    "send_order(query)"
   ]
  },
  {
   "cell_type": "markdown",
   "id": "norwegian-conversation",
   "metadata": {},
   "source": [
    "### 대기 주문 조회 토큰 생성"
   ]
  },
  {
   "cell_type": "code",
   "execution_count": null,
   "id": "micro-hydrogen",
   "metadata": {},
   "outputs": [],
   "source": [
    "orders_query = {\n",
    "    \"order_currency\": \"BTC\",\n",
    "}\n",
    "create_token(\"/info/orders\", orders_query)"
   ]
  },
  {
   "cell_type": "markdown",
   "id": "biological-principle",
   "metadata": {},
   "source": [
    "### 대기 주문 조회"
   ]
  },
  {
   "cell_type": "code",
   "execution_count": null,
   "id": "together-interval",
   "metadata": {},
   "outputs": [],
   "source": [
    "def query_waiting_order(query):\n",
    "    info = create_token(\"/info/orders\", query)\n",
    "    response = requests.post(info[0], headers=info[1], data=info[2])\n",
    "    return response.json()"
   ]
  },
  {
   "cell_type": "code",
   "execution_count": null,
   "id": "generic-tower",
   "metadata": {},
   "outputs": [],
   "source": [
    "query_waiting_order(orders_query)"
   ]
  },
  {
   "cell_type": "markdown",
   "id": "proud-omega",
   "metadata": {},
   "source": [
    "### 개별 주문 조회 토큰 생성"
   ]
  },
  {
   "cell_type": "code",
   "execution_count": null,
   "id": "artificial-holder",
   "metadata": {},
   "outputs": [],
   "source": [
    "order_query = {\n",
    "    \"order_currency\": \"BTC\",\n",
    "    \"order_id\": \"C0101000000426680316\"\n",
    "}\n",
    "create_token(\"/info/order_detail\", order_query)"
   ]
  },
  {
   "cell_type": "markdown",
   "id": "recognized-level",
   "metadata": {},
   "source": [
    "### 개별 주문 조회"
   ]
  },
  {
   "cell_type": "code",
   "execution_count": null,
   "id": "approximate-plane",
   "metadata": {},
   "outputs": [],
   "source": [
    "def query_order(query):\n",
    "    info = create_token(\"/info/order_detail\", query)\n",
    "    response = requests.post(info[0], headers=info[1], data=info[2])\n",
    "    return response.json()"
   ]
  },
  {
   "cell_type": "code",
   "execution_count": null,
   "id": "scientific-limit",
   "metadata": {},
   "outputs": [],
   "source": [
    "query_order(order_query)"
   ]
  },
  {
   "cell_type": "markdown",
   "id": "occupational-liberty",
   "metadata": {},
   "source": [
    "### 주문 취소"
   ]
  },
  {
   "cell_type": "code",
   "execution_count": null,
   "id": "invisible-disclosure",
   "metadata": {},
   "outputs": [],
   "source": [
    "cancel_query = {\n",
    "    \"order_currency\": \"BTC\",\n",
    "    \"order_id\": \"C0101000000426680316\",\n",
    "    \"type\": \"bid\",\n",
    "    \"payment_currency\": \"KRW\"\n",
    "}\n",
    "create_token(\"/trade/cancel\", cancel_query)"
   ]
  },
  {
   "cell_type": "code",
   "execution_count": null,
   "id": "interpreted-somerset",
   "metadata": {},
   "outputs": [],
   "source": [
    "def cancel_order(query):\n",
    "    info = create_token(\"/trade/cancel\", query)\n",
    "    response = requests.post(info[0], headers=info[1], data=info[2])\n",
    "    return response.json()"
   ]
  },
  {
   "cell_type": "code",
   "execution_count": null,
   "id": "assisted-brown",
   "metadata": {},
   "outputs": [],
   "source": [
    "cancel_order(cancel_query)"
   ]
  },
  {
   "cell_type": "markdown",
   "id": "reserved-circle",
   "metadata": {},
   "source": [
    "### 최근 거래 내역 조회"
   ]
  },
  {
   "cell_type": "code",
   "execution_count": null,
   "id": "divine-contents",
   "metadata": {},
   "outputs": [],
   "source": [
    "def get_trade_tick():\n",
    "    querystring = {\"count\": \"1\"}\n",
    "\n",
    "    response = requests.get(\n",
    "        SERVER_URL + f\"/public/transaction_history/BTC_KRW\", params=querystring\n",
    "    )\n",
    "    return response.json()"
   ]
  },
  {
   "cell_type": "code",
   "execution_count": null,
   "id": "trying-tower",
   "metadata": {},
   "outputs": [],
   "source": [
    "get_trade_tick()"
   ]
  },
  {
   "cell_type": "code",
   "execution_count": null,
   "id": "unique-update",
   "metadata": {},
   "outputs": [],
   "source": []
  }
 ],
 "metadata": {
  "kernelspec": {
   "display_name": "Python 3",
   "language": "python",
   "name": "python3"
  },
  "language_info": {
   "codemirror_mode": {
    "name": "ipython",
    "version": 3
   },
   "file_extension": ".py",
   "mimetype": "text/x-python",
   "name": "python",
   "nbconvert_exporter": "python",
   "pygments_lexer": "ipython3",
   "version": "3.6.8"
  }
 },
 "nbformat": 4,
 "nbformat_minor": 5
}
