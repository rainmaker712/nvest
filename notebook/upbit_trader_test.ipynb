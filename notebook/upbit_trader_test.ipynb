{
 "cells": [
  {
   "cell_type": "code",
   "execution_count": null,
   "id": "overall-music",
   "metadata": {},
   "outputs": [],
   "source": [
    "import os\n",
    "os.chdir('../')"
   ]
  },
  {
   "cell_type": "markdown",
   "id": "possible-envelope",
   "metadata": {},
   "source": [
    "### 현재 디렉토리가 smtm 프로젝트 root로 설정되었는지 확인"
   ]
  },
  {
   "cell_type": "code",
   "execution_count": null,
   "id": "literary-thriller",
   "metadata": {},
   "outputs": [],
   "source": [
    "print(\"현재 디렉토리 \" , os.getcwd())"
   ]
  },
  {
   "cell_type": "code",
   "execution_count": null,
   "id": "suitable-picture",
   "metadata": {},
   "outputs": [],
   "source": [
    "import os\n",
    "import time\n",
    "from datetime import datetime\n",
    "from smtm import UpbitTrader\n",
    "ISO_DATEFORMAT = \"%Y-%m-%dT%H:%M:%S\""
   ]
  },
  {
   "cell_type": "markdown",
   "id": "separate-branch",
   "metadata": {},
   "source": [
    "### 초기화"
   ]
  },
  {
   "cell_type": "code",
   "execution_count": null,
   "id": "streaming-arkansas",
   "metadata": {},
   "outputs": [],
   "source": [
    "utr = UpbitTrader(budget=10000)"
   ]
  },
  {
   "cell_type": "markdown",
   "id": "light-definition",
   "metadata": {},
   "source": [
    "### 계좌 조회"
   ]
  },
  {
   "cell_type": "code",
   "execution_count": null,
   "id": "tracked-limitation",
   "metadata": {},
   "outputs": [],
   "source": [
    "utr.get_account_info()"
   ]
  },
  {
   "cell_type": "markdown",
   "id": "advanced-majority",
   "metadata": {},
   "source": [
    "### 매수 주문"
   ]
  },
  {
   "cell_type": "code",
   "execution_count": null,
   "id": "bottom-perfume",
   "metadata": {},
   "outputs": [],
   "source": [
    "request = {\n",
    "    'id': 'UTR_TEST.1234', \n",
    "    'type': 'buy',\n",
    "    'price': 35000000, \n",
    "    'amount': 0.0002, \n",
    "}"
   ]
  },
  {
   "cell_type": "code",
   "execution_count": null,
   "id": "finnish-reputation",
   "metadata": {},
   "outputs": [],
   "source": [
    "def callback(info):\n",
    "    print(\"callback!\")\n",
    "    print(info)"
   ]
  },
  {
   "cell_type": "code",
   "execution_count": null,
   "id": "aquatic-occurrence",
   "metadata": {},
   "outputs": [],
   "source": [
    "utr.send_request([request], callback)"
   ]
  },
  {
   "cell_type": "markdown",
   "id": "special-albania",
   "metadata": {},
   "source": [
    "### 주문 취소"
   ]
  },
  {
   "cell_type": "code",
   "execution_count": null,
   "id": "phantom-mouse",
   "metadata": {},
   "outputs": [],
   "source": [
    "utr.cancel_request(request[\"id\"])"
   ]
  },
  {
   "cell_type": "code",
   "execution_count": null,
   "id": "pharmaceutical-inspector",
   "metadata": {},
   "outputs": [],
   "source": []
  }
 ],
 "metadata": {
  "kernelspec": {
   "display_name": "Python 3",
   "language": "python",
   "name": "python3"
  },
  "language_info": {
   "codemirror_mode": {
    "name": "ipython",
    "version": 3
   },
   "file_extension": ".py",
   "mimetype": "text/x-python",
   "name": "python",
   "nbconvert_exporter": "python",
   "pygments_lexer": "ipython3",
   "version": "3.6.8"
  }
 },
 "nbformat": 4,
 "nbformat_minor": 5
}
