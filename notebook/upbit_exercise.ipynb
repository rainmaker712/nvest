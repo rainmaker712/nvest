{
 "cells": [
  {
   "cell_type": "markdown",
   "id": "passive-musical",
   "metadata": {},
   "source": [
    "## 업비트 API 실습"
   ]
  },
  {
   "cell_type": "code",
   "execution_count": null,
   "id": "packed-collectible",
   "metadata": {},
   "outputs": [],
   "source": [
    "import os\n",
    "import jwt  # PyJWT\n",
    "import uuid\n",
    "import hashlib\n",
    "from urllib.parse import urlencode\n",
    "import requests"
   ]
  },
  {
   "cell_type": "markdown",
   "id": "continent-darkness",
   "metadata": {},
   "source": [
    "### 환경변수 호출"
   ]
  },
  {
   "cell_type": "code",
   "execution_count": null,
   "id": "improving-independence",
   "metadata": {},
   "outputs": [],
   "source": [
    "from dotenv import load_dotenv\n",
    "\n",
    "load_dotenv()\n",
    "\n",
    "ACCESS_KEY = os.environ[\"UPBIT_OPEN_API_ACCESS_KEY\"]\n",
    "SECRET_KEY = os.environ[\"UPBIT_OPEN_API_SECRET_KEY\"]\n",
    "SERVER_URL = os.environ[\"UPBIT_OPEN_API_SERVER_URL\"]\n",
    "SERVER_URL"
   ]
  },
  {
   "cell_type": "markdown",
   "id": "intensive-length",
   "metadata": {},
   "source": [
    "os.environ을 조회 해 보았을때 .env에서 추가한 변수들이 정상적으로 추가되어 있는지 확인해보자  \n",
    "만약 정상적으로 로딩이 안된다면 아래 명령어로 .env 파일을 로딩해보자  \n",
    "`%dotenv {.env파일의 절대 또는 상대경로}/.env`"
   ]
  },
  {
   "cell_type": "code",
   "execution_count": null,
   "id": "healthy-margin",
   "metadata": {},
   "outputs": [],
   "source": [
    "os.environ"
   ]
  },
  {
   "cell_type": "markdown",
   "id": "exact-million",
   "metadata": {},
   "source": [
    "### 토큰 만들기"
   ]
  },
  {
   "cell_type": "code",
   "execution_count": null,
   "id": "moving-battery",
   "metadata": {},
   "outputs": [],
   "source": [
    "def create_token(query=None):\n",
    "    \"\"\"API에 사용될 토큰을 생성\"\"\"\n",
    "    if query is None:\n",
    "        print(\"Start create token without query\")\n",
    "        payload = {\n",
    "            \"access_key\": ACCESS_KEY,\n",
    "            \"nonce\": str(uuid.uuid4()),\n",
    "        }\n",
    "\n",
    "        jwt_token = jwt.encode(payload, SECRET_KEY)\n",
    "        authorization_token = \"Bearer {}\".format(jwt_token)\n",
    "        return authorization_token\n",
    "\n",
    "    # query는 dict 타입입니다.\n",
    "    print(\"Start create token without query\")\n",
    "    print(query)\n",
    "    m = hashlib.sha512()\n",
    "    m.update(urlencode(query).encode())\n",
    "    print(\"url encoded_query\")\n",
    "    print(urlencode(query).encode())\n",
    "    query_hash = m.hexdigest()\n",
    "\n",
    "    print(\"hash of encoded_query\")\n",
    "    print(query_hash)\n",
    "\n",
    "    payload = {\n",
    "        \"access_key\": ACCESS_KEY,\n",
    "        \"nonce\": str(uuid.uuid4()),\n",
    "        \"query_hash\": query_hash,\n",
    "        \"query_hash_alg\": \"SHA512\",\n",
    "    }\n",
    "\n",
    "    jwt_token = jwt.encode(payload, SECRET_KEY)\n",
    "    authorization_token = \"Bearer {}\".format(jwt_token)\n",
    "    return authorization_token"
   ]
  },
  {
   "cell_type": "markdown",
   "id": "excellent-tactics",
   "metadata": {},
   "source": [
    "### 파라미터 없이 토큰 생성"
   ]
  },
  {
   "cell_type": "code",
   "execution_count": null,
   "id": "sufficient-halifax",
   "metadata": {},
   "outputs": [],
   "source": [
    "create_token()"
   ]
  },
  {
   "cell_type": "markdown",
   "id": "failing-creator",
   "metadata": {},
   "source": [
    "### 파라미터가 포함된 토큰 생성"
   ]
  },
  {
   "cell_type": "code",
   "execution_count": null,
   "id": "athletic-purpose",
   "metadata": {},
   "outputs": [],
   "source": [
    "create_token({'market': 'KRW-BTC', 'side': 'bid', 'price': '10000', 'ord_type': 'price'})"
   ]
  },
  {
   "cell_type": "markdown",
   "id": "removable-suspect",
   "metadata": {},
   "source": [
    "### 계좌 정보 조회"
   ]
  },
  {
   "cell_type": "code",
   "execution_count": null,
   "id": "little-receptor",
   "metadata": {},
   "outputs": [],
   "source": [
    "def query_account():\n",
    "    token = create_token()\n",
    "    headers = {\"Authorization\": token}\n",
    "\n",
    "    res = requests.get(SERVER_URL + \"/v1/accounts\", headers=headers)\n",
    "    return res.json()"
   ]
  },
  {
   "cell_type": "code",
   "execution_count": null,
   "id": "upset-strike",
   "metadata": {},
   "outputs": [],
   "source": [
    "query_account()"
   ]
  },
  {
   "cell_type": "markdown",
   "id": "norman-problem",
   "metadata": {},
   "source": [
    "### 주문하기"
   ]
  },
  {
   "cell_type": "code",
   "execution_count": null,
   "id": "defined-hormone",
   "metadata": {},
   "outputs": [],
   "source": [
    "def send_order(query):\n",
    "    query_string = urlencode(query).encode()\n",
    "   \n",
    "    m = hashlib.sha512()\n",
    "    m.update(query_string)\n",
    "    query_hash = m.hexdigest()\n",
    "\n",
    "    payload = {\n",
    "        'access_key': ACCESS_KEY,\n",
    "        'nonce': str(uuid.uuid4()),\n",
    "        'query_hash': query_hash,\n",
    "        'query_hash_alg': 'SHA512',\n",
    "    }\n",
    "\n",
    "    jwt_token = jwt.encode(payload, SECRET_KEY)\n",
    "    authorize_token = 'Bearer {}'.format(jwt_token)\n",
    "    headers = {\"Authorization\": authorize_token}\n",
    "    res = requests.post(SERVER_URL + \"/v1/orders\", params=query_string, headers=headers)\n",
    "    return res.json()"
   ]
  },
  {
   "cell_type": "markdown",
   "id": "stable-conditioning",
   "metadata": {},
   "source": [
    "### 시장 가격 매수 주문하기"
   ]
  },
  {
   "cell_type": "code",
   "execution_count": null,
   "id": "listed-might",
   "metadata": {},
   "outputs": [],
   "source": [
    "query = {\n",
    "    'market': 'KRW-BTC',\n",
    "    'side': 'bid',\n",
    "    'price': '10000',\n",
    "    'ord_type': 'price'\n",
    "}\n",
    "send_order(query)"
   ]
  },
  {
   "cell_type": "markdown",
   "id": "current-palestinian",
   "metadata": {},
   "source": [
    "### 시장 가격 매도 주문하기"
   ]
  },
  {
   "cell_type": "code",
   "execution_count": null,
   "id": "fitting-machine",
   "metadata": {},
   "outputs": [],
   "source": [
    "query = {\n",
    "    'market': 'KRW-BTC',\n",
    "    'side': 'ask',\n",
    "    'volume': '0.0002',\n",
    "    'ord_type': 'market'\n",
    "}\n",
    "send_order(query)"
   ]
  },
  {
   "cell_type": "markdown",
   "id": "mobile-console",
   "metadata": {},
   "source": [
    "### 고정 가격 매수 주문하기"
   ]
  },
  {
   "cell_type": "code",
   "execution_count": null,
   "id": "vanilla-globe",
   "metadata": {},
   "outputs": [],
   "source": [
    "query = {\n",
    "    'market': 'KRW-BTC',\n",
    "    'side': 'bid',\n",
    "    'price': '38760000',\n",
    "    'volume': '0.0002',\n",
    "    'ord_type': 'limit'\n",
    "}\n",
    "send_order(query)"
   ]
  },
  {
   "cell_type": "markdown",
   "id": "cleared-tribe",
   "metadata": {},
   "source": [
    "### 고정 가격 매도 주문하기"
   ]
  },
  {
   "cell_type": "code",
   "execution_count": null,
   "id": "persistent-watts",
   "metadata": {},
   "outputs": [],
   "source": [
    "query = {\n",
    "    'market': 'KRW-BTC',\n",
    "    'side': 'ask',\n",
    "    'price': '39760000',\n",
    "    'volume': '0.0002',\n",
    "    'ord_type': 'limit'\n",
    "}\n",
    "send_order(query)"
   ]
  },
  {
   "cell_type": "markdown",
   "id": "incomplete-start",
   "metadata": {},
   "source": [
    "### 주문조회"
   ]
  },
  {
   "cell_type": "code",
   "execution_count": null,
   "id": "prescribed-helmet",
   "metadata": {},
   "outputs": [],
   "source": [
    "def query_order_list(is_done_state=False):\n",
    "    query_states = [\"wait\", \"watch\"]\n",
    "    if is_done_state:\n",
    "        query_states = [\"done\", \"cancel\"]\n",
    "\n",
    "    states_query_string = '&'.join([\"states[]={}\".format(state) for state in query_states])\n",
    "    query_string = states_query_string.encode()\n",
    "\n",
    "    m = hashlib.sha512()\n",
    "    m.update(query_string)\n",
    "    query_hash = m.hexdigest()\n",
    "\n",
    "    payload = {\n",
    "        'access_key': ACCESS_KEY,\n",
    "        'nonce': str(uuid.uuid4()),\n",
    "        'query_hash': query_hash,\n",
    "        'query_hash_alg': 'SHA512',\n",
    "    }\n",
    "\n",
    "    jwt_token = jwt.encode(payload, SECRET_KEY)\n",
    "    authorize_token = 'Bearer {}'.format(jwt_token)\n",
    "    headers = {\"Authorization\": authorize_token}\n",
    "\n",
    "    res = requests.get(SERVER_URL + \"/v1/orders\", params=query_string, headers=headers)\n",
    "\n",
    "    return res.json()"
   ]
  },
  {
   "cell_type": "markdown",
   "id": "geological-culture",
   "metadata": {},
   "source": [
    "### 대기 중인 주문 조회"
   ]
  },
  {
   "cell_type": "code",
   "execution_count": null,
   "id": "sapphire-fence",
   "metadata": {},
   "outputs": [],
   "source": [
    "query_order_list()"
   ]
  },
  {
   "cell_type": "markdown",
   "id": "figured-quantum",
   "metadata": {},
   "source": [
    "### 체결 된 주문 조회"
   ]
  },
  {
   "cell_type": "code",
   "execution_count": null,
   "id": "confidential-thumbnail",
   "metadata": {},
   "outputs": [],
   "source": [
    "query_order_list(True)"
   ]
  },
  {
   "cell_type": "markdown",
   "id": "forbidden-acrobat",
   "metadata": {},
   "source": [
    "### 주문 취소하기"
   ]
  },
  {
   "cell_type": "code",
   "execution_count": null,
   "id": "attempted-bahamas",
   "metadata": {},
   "outputs": [],
   "source": [
    "def cancel_order(order_uuid=None):\n",
    "    if order_uuid is None:\n",
    "        return\n",
    "\n",
    "    query = {\n",
    "        'uuid': order_uuid,\n",
    "    }\n",
    "    query_string = urlencode(query).encode()\n",
    "\n",
    "    m = hashlib.sha512()\n",
    "    m.update(query_string)\n",
    "    query_hash = m.hexdigest()\n",
    "\n",
    "    payload = {\n",
    "        'access_key': ACCESS_KEY,\n",
    "        'nonce': str(uuid.uuid4()),\n",
    "        'query_hash': query_hash,\n",
    "        'query_hash_alg': 'SHA512',\n",
    "    }\n",
    "\n",
    "    jwt_token = jwt.encode(payload, SECRET_KEY)\n",
    "    authorize_token = 'Bearer {}'.format(jwt_token)\n",
    "    headers = {\"Authorization\": authorize_token}\n",
    "\n",
    "    res = requests.delete(SERVER_URL + \"/v1/order\", params=query, headers=headers)\n",
    "\n",
    "    return res.json()"
   ]
  },
  {
   "cell_type": "markdown",
   "id": "exempt-volume",
   "metadata": {},
   "source": [
    "### UUID로 주문 최소"
   ]
  },
  {
   "cell_type": "code",
   "execution_count": null,
   "id": "living-equality",
   "metadata": {},
   "outputs": [],
   "source": [
    "cancel_order('657c9b11-8d63-4db9-b8b9-14094b7992a2')"
   ]
  },
  {
   "cell_type": "markdown",
   "id": "stupid-hardware",
   "metadata": {},
   "source": [
    "### 최근 거래 내역 조회"
   ]
  },
  {
   "cell_type": "code",
   "execution_count": null,
   "id": "impressed-prerequisite",
   "metadata": {},
   "outputs": [],
   "source": [
    "def query_latest_trade(market):\n",
    "    \"\"\"최근 거래 내역 조회\n",
    "    response:\n",
    "        trade_date_utc: 체결 일자(UTC 기준), String\n",
    "        trade_time_utc: 체결 시각(UTC 기준), String\n",
    "        timestamp: 체결 타임스탬프, Long\n",
    "        trade_price: 체결 가격, Double\n",
    "        trade_volume: 체결량, Double\n",
    "        prev_closing_price: 전일 종가, Double\n",
    "        change_price: 변화량, Double\n",
    "        ask_bid: 매도/매수, String\n",
    "        sequential_id: 체결 번호(Unique), Long\n",
    "    \"\"\"\n",
    "    querystring = {\n",
    "        \"market\": market,\n",
    "        \"count\":\"2\"\n",
    "    }\n",
    "\n",
    "    response = requests.request(\"GET\", SERVER_URL + \"/v1/trades/ticks\", params=querystring)\n",
    "\n",
    "    return response.json()\n",
    "query_latest_trade('KRW-BTC')"
   ]
  },
  {
   "cell_type": "code",
   "execution_count": null,
   "id": "engaged-racing",
   "metadata": {},
   "outputs": [],
   "source": []
  }
 ],
 "metadata": {
  "kernelspec": {
   "display_name": "Python 3",
   "language": "python",
   "name": "python3"
  },
  "language_info": {
   "codemirror_mode": {
    "name": "ipython",
    "version": 3
   },
   "file_extension": ".py",
   "mimetype": "text/x-python",
   "name": "python",
   "nbconvert_exporter": "python",
   "pygments_lexer": "ipython3",
   "version": "3.6.8"
  }
 },
 "nbformat": 4,
 "nbformat_minor": 5
}
