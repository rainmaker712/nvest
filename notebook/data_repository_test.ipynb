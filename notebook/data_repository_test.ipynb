{
 "cells": [
  {
   "cell_type": "code",
   "execution_count": null,
   "id": "sunset-pontiac",
   "metadata": {},
   "outputs": [],
   "source": [
    "import os\n",
    "os.chdir('../')"
   ]
  },
  {
   "cell_type": "markdown",
   "id": "chronic-combining",
   "metadata": {},
   "source": [
    "### 현재 디렉토리가 smtm 프로젝트 root로 설정되었는지 확인\n",
    "분석 결과 파일이 저장될 output 폴더 생성"
   ]
  },
  {
   "cell_type": "code",
   "execution_count": null,
   "id": "similar-bunch",
   "metadata": {},
   "outputs": [],
   "source": [
    "print(\"현재 디렉토리 \" , os.getcwd())"
   ]
  },
  {
   "cell_type": "code",
   "execution_count": null,
   "id": "consistent-artwork",
   "metadata": {},
   "outputs": [],
   "source": [
    "from smtm import DataRepository"
   ]
  },
  {
   "cell_type": "code",
   "execution_count": null,
   "id": "excess-evaluation",
   "metadata": {},
   "outputs": [],
   "source": [
    "dr = DataRepository()"
   ]
  },
  {
   "cell_type": "markdown",
   "id": "ahead-knowing",
   "metadata": {},
   "source": [
    "### 200개 이상 조회"
   ]
  },
  {
   "cell_type": "code",
   "execution_count": null,
   "id": "light-spare",
   "metadata": {},
   "outputs": [],
   "source": [
    "dr.get_data(\"2020-02-20T14:02:00\", \"2020-02-20T23:51:00\", \"KRW-BTC\")"
   ]
  },
  {
   "cell_type": "markdown",
   "id": "million-playlist",
   "metadata": {},
   "source": [
    "### 데이터 베이스 데이터 사용 확인"
   ]
  },
  {
   "cell_type": "code",
   "execution_count": null,
   "id": "frank-virus",
   "metadata": {},
   "outputs": [],
   "source": [
    "dr.get_data(\"2020-02-20T17:00:00\", \"2020-02-20T22:10:00\", \"KRW-BTC\")"
   ]
  },
  {
   "cell_type": "markdown",
   "id": "passive-manitoba",
   "metadata": {},
   "source": [
    "### Upbit에 없는 데이터가 있음 확인\n",
    "2020-02-22t03:55:00 1분봉 없음, (UTC 2020-02-21T18:57:00Z)  \n",
    "54분 데이터를 복제해서 55분 데이터 생성"
   ]
  },
  {
   "cell_type": "code",
   "execution_count": null,
   "id": "hired-immigration",
   "metadata": {},
   "outputs": [],
   "source": [
    "dr.get_data(\"2020-02-22T03:54:00\", \"2020-02-22T03:56:00\", \"KRW-BTC\")"
   ]
  },
  {
   "cell_type": "markdown",
   "id": "leading-height",
   "metadata": {},
   "source": [
    "### 10000개 이상 대량 데이터 테스트"
   ]
  },
  {
   "cell_type": "code",
   "execution_count": null,
   "id": "portable-probe",
   "metadata": {},
   "outputs": [],
   "source": [
    "result = dr.get_data(\"2020-01-10T00:00:00\", \"2020-01-20T00:00:00\", \"KRW-BTC\")"
   ]
  },
  {
   "cell_type": "code",
   "execution_count": null,
   "id": "another-devices",
   "metadata": {},
   "outputs": [],
   "source": [
    "len(result)"
   ]
  },
  {
   "cell_type": "code",
   "execution_count": null,
   "id": "dimensional-consideration",
   "metadata": {},
   "outputs": [],
   "source": []
  }
 ],
 "metadata": {
  "kernelspec": {
   "display_name": "Python 3",
   "language": "python",
   "name": "python3"
  },
  "language_info": {
   "codemirror_mode": {
    "name": "ipython",
    "version": 3
   },
   "file_extension": ".py",
   "mimetype": "text/x-python",
   "name": "python",
   "nbconvert_exporter": "python",
   "pygments_lexer": "ipython3",
   "version": "3.6.8"
  }
 },
 "nbformat": 4,
 "nbformat_minor": 5
}
